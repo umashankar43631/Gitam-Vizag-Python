{
 "cells": [
  {
   "cell_type": "code",
   "execution_count": null,
   "metadata": {},
   "outputs": [],
   "source": [
    "s1=\"python programming\"\n",
    "s2='A'\n",
    "print(s1)\n",
    "print(s2)\n",
    "print(type(s1))\n",
    "print(type(s2))"
   ]
  },
  {
   "cell_type": "code",
   "execution_count": null,
   "metadata": {},
   "outputs": [],
   "source": [
    "print(s1[2:6])\n",
    "print(s1[-1::-1])\n"
   ]
  },
  {
   "cell_type": "code",
   "execution_count": null,
   "metadata": {},
   "outputs": [],
   "source": [
    "print(s1[-1])"
   ]
  },
  {
   "cell_type": "code",
   "execution_count": null,
   "metadata": {},
   "outputs": [],
   "source": [
    "print(s1[len(s1)-1])\n",
    "print(s1[-2])"
   ]
  },
  {
   "cell_type": "code",
   "execution_count": null,
   "metadata": {},
   "outputs": [],
   "source": [
    "def palindrome(n):\n",
    "    if(n==n[-1::-1]):\n",
    "        print(\"palindrome\")\n",
    "    else:\n",
    "        print(\"not a palindrome\")\n",
    "n=input(\"enter a string to check whether it\\'s is a palindrome or not \\t\")\n",
    "palindrome(n)"
   ]
  },
  {
   "cell_type": "code",
   "execution_count": 18,
   "metadata": {},
   "outputs": [
    {
     "name": "stdout",
     "output_type": "stream",
     "text": [
      "MADE"
     ]
    }
   ],
   "source": [
    "def worduppercase(s):\n",
    "    cntspace=0\n",
    "    for i in range(len(s)):\n",
    "        if(ord(s[i])==32):\n",
    "            cntspace+=1\n",
    "        if cntspace ==1:\n",
    "            if ord(s[i])>=65 and ord(s[i])<=90:\n",
    "                print(s[i],end='')\n",
    "            elif ord(s[i])>=97 and ord(s[i])<=122:\n",
    "                print(chr(ord(s[i])-32),end='')\n",
    "        if cntspace==2:\n",
    "            break\n",
    "worduppercase(\"Python made easy\")"
   ]
  },
  {
   "cell_type": "code",
   "execution_count": 14,
   "metadata": {},
   "outputs": [
    {
     "name": "stdout",
     "output_type": "stream",
     "text": [
      "MADE "
     ]
    }
   ],
   "source": [
    "def wordcase(s):\n",
    "    cntspace=0\n",
    "    for i in range(len(s)):\n",
    "        if(ord(s[i])==32):\n",
    "            cntspace+=1\n",
    "        elif (cntspace==2):\n",
    "            break\n",
    "        while(cntspace==1):\n",
    "            print(s[i+1].upper(),end='')\n",
    "            break\n",
    "wordcase('python made easy')       "
   ]
  },
  {
   "cell_type": "code",
   "execution_count": 8,
   "metadata": {},
   "outputs": [
    {
     "name": "stdout",
     "output_type": "stream",
     "text": [
      "['Gitam', 1582, 2018, 2019, 'Vizag']\n",
      "['Gitam', 1234, 2018, 2019, 'Vizag']\n",
      "['Gitam', 1234, 2018, 'Vizag']\n",
      "['Gitam', 1234, 2018, 'Vizag', 23]\n",
      "['Gitam', 1234, 2018, 'Vizag', 23, 2]\n"
     ]
    }
   ],
   "source": [
    "li=[\"Gitam\",1582,2018,2019,\"Vizag\"]\n",
    "print(li)\n",
    "li[1]=1234\n",
    "print(li)\n",
    "del li[3]\n",
    "print(li)\n",
    "li.append(23)\n",
    "print(li)\n",
    "li.insert(56,2)\n",
    "print(li)\n"
   ]
  },
  {
   "cell_type": "code",
   "execution_count": 19,
   "metadata": {},
   "outputs": [
    {
     "name": "stdout",
     "output_type": "stream",
     "text": [
      "['Gitam', 1234, 2018, 'Vizag', 23, 2, 'Gitam', 1234, 2018, 'Vizag', 23, 2]\n"
     ]
    }
   ],
   "source": [
    "print(li*2)"
   ]
  },
  {
   "cell_type": "code",
   "execution_count": 26,
   "metadata": {},
   "outputs": [
    {
     "name": "stdout",
     "output_type": "stream",
     "text": [
      "True\n",
      "False\n",
      "[Gitam , 1234 , 2018 , Vizag , 23 , 2 , \b\b]"
     ]
    }
   ],
   "source": [
    "print(1234 in li)\n",
    "print(12 in li)\n",
    "print(\"[\",end='')\n",
    "for i in range(len(li)):\n",
    "    print(li[i],end=' , ')\n",
    "print(\"\\b\\b]\",end='')\n"
   ]
  },
  {
   "cell_type": "code",
   "execution_count": 27,
   "metadata": {},
   "outputs": [
    {
     "name": "stdout",
     "output_type": "stream",
     "text": [
      "(0, 'Gitam')\n",
      "(1, 1234)\n",
      "(2, 2018)\n",
      "(3, 'Vizag')\n",
      "(4, 23)\n",
      "(5, 2)\n"
     ]
    }
   ],
   "source": [
    "for i in enumerate(li):\n",
    "    print(i)"
   ]
  },
  {
   "cell_type": "code",
   "execution_count": 8,
   "metadata": {},
   "outputs": [
    {
     "name": "stdout",
     "output_type": "stream",
     "text": [
      "minumum of given list is  2\n",
      "maximum of given list is  45\n",
      "sum of given list numbers is 117\n",
      "average is 19\n",
      "1\n",
      "2\n",
      "[2, 10, 10, 20, 30, 45]\n",
      "[2, 10, 10, 20, 30]\n",
      "[2, 10, 10, 20, 30, 1, 2, 3, 4, 5]\n"
     ]
    }
   ],
   "source": [
    "li=[10,20,30,45,2,10]\n",
    "print(\"minumum of given list is \",min(li))\n",
    "print(\"maximum of given list is \",max(li))\n",
    "\n",
    "print(\"sum of given list numbers is\",sum(li))\n",
    "print(\"average is\",sum(li)//len(li))\n",
    "print(li.index(20))\n",
    "print(li.count(10))\n",
    "li.sort()\n",
    "print(li)\n",
    "li.pop()\n",
    "print(li)\n",
    "li1=[1,2,3,4,5]\n",
    "li.extend(li1)\n",
    "print(li)\n",
    "\n",
    "\n",
    "\n",
    "\n",
    "\n",
    "\n",
    "\n",
    "\n",
    "\n"
   ]
  },
  {
   "cell_type": "code",
   "execution_count": 10,
   "metadata": {},
   "outputs": [
    {
     "name": "stdout",
     "output_type": "stream",
     "text": [
      "22\n",
      "45\n"
     ]
    }
   ],
   "source": [
    "def largenumber(li):\n",
    "    li.sort()\n",
    "    def genericlarge(li,n):\n",
    "        li.sort()\n",
    "        return li[-n]\n",
    "    print(genericlarge(li,3))\n",
    "    return li[-1]\n",
    "li=[19,1,25,6,45,22]\n",
    "print(largenumber(li))"
   ]
  },
  {
   "cell_type": "code",
   "execution_count": 12,
   "metadata": {},
   "outputs": [
    {
     "name": "stdout",
     "output_type": "stream",
     "text": [
      "1\n",
      "9\n"
     ]
    }
   ],
   "source": [
    "def leastnumber(li):\n",
    "    li.sort()\n",
    "    return li[0]\n",
    "def genericleastnumber(li,n):\n",
    "    li.sort()\n",
    "    return li[n-1]\n",
    "li=[19,1,25,6,9,45,22]\n",
    "print(leastnumber(li))\n",
    "print(genericleastnumber(li,3))"
   ]
  },
  {
   "cell_type": "code",
   "execution_count": 13,
   "metadata": {},
   "outputs": [
    {
     "ename": "NameError",
     "evalue": "name 'pwd' is not defined",
     "output_type": "error",
     "traceback": [
      "\u001b[1;31m---------------------------------------------------------------------------\u001b[0m",
      "\u001b[1;31mNameError\u001b[0m                                 Traceback (most recent call last)",
      "\u001b[1;32m<ipython-input-13-cf10c2482e37>\u001b[0m in \u001b[0;36m<module>\u001b[1;34m\u001b[0m\n\u001b[0;32m      1\u001b[0m \u001b[1;31m#File Handling in Python\u001b[0m\u001b[1;33m\u001b[0m\u001b[1;33m\u001b[0m\u001b[1;33m\u001b[0m\u001b[0m\n\u001b[1;32m----> 2\u001b[1;33m \u001b[0mpwd\u001b[0m\u001b[1;33m\u001b[0m\u001b[1;33m\u001b[0m\u001b[0m\n\u001b[0m",
      "\u001b[1;31mNameError\u001b[0m: name 'pwd' is not defined"
     ]
    }
   ],
   "source": [
    "#File Handling in Python\n",
    "pwd"
   ]
  },
  {
   "cell_type": "markdown",
   "metadata": {},
   "source": [
    "pwd\n"
   ]
  },
  {
   "cell_type": "code",
   "execution_count": 14,
   "metadata": {},
   "outputs": [
    {
     "data": {
      "text/plain": [
       "'C:\\\\Users\\\\cse319'"
      ]
     },
     "execution_count": 14,
     "metadata": {},
     "output_type": "execute_result"
    }
   ],
   "source": [
    "pwd"
   ]
  },
  {
   "cell_type": "code",
   "execution_count": 24,
   "metadata": {},
   "outputs": [
    {
     "data": {
      "text/plain": [
       "15"
      ]
     },
     "execution_count": 24,
     "metadata": {},
     "output_type": "execute_result"
    }
   ],
   "source": [
    "f1=open(\"shankar.txt\",\"w+\")\n",
    "f1.write(\"this is shankar\")"
   ]
  },
  {
   "cell_type": "code",
   "execution_count": 25,
   "metadata": {},
   "outputs": [
    {
     "name": "stdout",
     "output_type": "stream",
     "text": [
      "this is shankar\n"
     ]
    },
    {
     "data": {
      "text/plain": [
       "<function TextIOWrapper.close()>"
      ]
     },
     "execution_count": 25,
     "metadata": {},
     "output_type": "execute_result"
    }
   ],
   "source": [
    "f2=open('shankar.txt','r')\n",
    "print(f2.read(20))\n",
    "f2.close"
   ]
  },
  {
   "cell_type": "code",
   "execution_count": 36,
   "metadata": {},
   "outputs": [
    {
     "name": "stdout",
     "output_type": "stream",
     "text": [
      "file is successfully created and data has inserted\n"
     ]
    }
   ],
   "source": [
    "def createfile(filename):\n",
    "    f=open(filename,'w+')\n",
    "    for i in range(10):\n",
    "        f.write(\"this is %d line \\n\"%i)\n",
    "    print('file is successfully created and data has inserted')\n",
    "createfile('data.txt')"
   ]
  },
  {
   "cell_type": "code",
   "execution_count": 37,
   "metadata": {},
   "outputs": [],
   "source": [
    "def appendmode(filename):\n",
    "    f=open(filename,'a')\n",
    "    f.write('Gitam vizag\\n')\n",
    "    f.write('python programming')\n",
    "appendmode('data.txt')"
   ]
  },
  {
   "cell_type": "code",
   "execution_count": 38,
   "metadata": {},
   "outputs": [
    {
     "name": "stdout",
     "output_type": "stream",
     "text": [
      "this is 0 line \n",
      "\n",
      "this is 1 line \n",
      "\n",
      "this is 2 line \n",
      "\n",
      "this is 3 line \n",
      "\n",
      "this is 4 line \n",
      "\n",
      "this is 5 line \n",
      "\n",
      "this is 6 line \n",
      "\n",
      "this is 7 line \n",
      "\n",
      "this is 8 line \n",
      "\n",
      "this is 9 line \n",
      "\n",
      "Gitam vizag\n",
      "\n",
      "python programming\n"
     ]
    }
   ],
   "source": [
    "def readmode(filename):\n",
    "    f=open(filename,'r')\n",
    "    for file in f:\n",
    "        print(file)\n",
    "readmode('data.txt')"
   ]
  },
  {
   "cell_type": "code",
   "execution_count": 40,
   "metadata": {},
   "outputs": [
    {
     "data": {
      "text/plain": [
       "44"
      ]
     },
     "execution_count": 40,
     "metadata": {},
     "output_type": "execute_result"
    }
   ],
   "source": [
    "def wordcount(filename):\n",
    "    with open(filename,'r') as f:\n",
    "        if f.mode=='r':\n",
    "            a= f.read()\n",
    "            li=a.split()#divides the word using space\n",
    "        return len(li)\n",
    "wordcount('data.txt')"
   ]
  },
  {
   "cell_type": "code",
   "execution_count": 50,
   "metadata": {},
   "outputs": [
    {
     "data": {
      "text/plain": [
       "(10, 1)"
      ]
     },
     "execution_count": 50,
     "metadata": {},
     "output_type": "execute_result"
    }
   ],
   "source": [
    "def wordcount(filename):\n",
    "    with open(filename,'r') as f:\n",
    "        if f.mode=='r':\n",
    "            a= f.read()\n",
    "            li=a.split()#divides the word using space\n",
    "            this_count=0\n",
    "            gitam_count=0\n",
    "            for i in range(len(li)):\n",
    "                if li[i]=='this':\n",
    "                    this_count+=1\n",
    "                if li[i]=='Gitam':\n",
    "                    gitam_count+=1\n",
    "            return this_count,gitam_count \n",
    "wordcount('data.txt')"
   ]
  },
  {
   "cell_type": "code",
   "execution_count": 51,
   "metadata": {},
   "outputs": [
    {
     "data": {
      "text/plain": [
       "10"
      ]
     },
     "execution_count": 51,
     "metadata": {},
     "output_type": "execute_result"
    }
   ],
   "source": [
    "def specificwordcount(filename,word):\n",
    "    with open(filename,'r') as f:\n",
    "        if f.mode=='r':\n",
    "            a=f.read()\n",
    "            li=a.split()\n",
    "            return li.count(word)\n",
    "specificwordcount('data.txt','this')"
   ]
  },
  {
   "cell_type": "code",
   "execution_count": 54,
   "metadata": {},
   "outputs": [
    {
     "data": {
      "text/plain": [
       "190"
      ]
     },
     "execution_count": 54,
     "metadata": {},
     "output_type": "execute_result"
    }
   ],
   "source": [
    "def charcount(filename):\n",
    "    with open(filename,'r') as f:\n",
    "        if f.mode=='r':\n",
    "            a=f.read()\n",
    "            li=list(a)\n",
    "        return len(li)\n",
    "charcount('data.txt')"
   ]
  },
  {
   "cell_type": "code",
   "execution_count": 58,
   "metadata": {},
   "outputs": [
    {
     "data": {
      "text/plain": [
       "12"
      ]
     },
     "execution_count": 58,
     "metadata": {},
     "output_type": "execute_result"
    }
   ],
   "source": [
    "def linecount(filename):\n",
    "    with open(filename) as f:\n",
    "        if f.mode=='r':\n",
    "            a=f.read()\n",
    "            li=a.split('\\n')\n",
    "        return len(li)\n",
    "linecount('data.txt')"
   ]
  },
  {
   "cell_type": "code",
   "execution_count": 59,
   "metadata": {},
   "outputs": [
    {
     "data": {
      "text/plain": [
       "'Upper case : 1 Lower case : 126 Digits 10'"
      ]
     },
     "execution_count": 59,
     "metadata": {},
     "output_type": "execute_result"
    }
   ],
   "source": [
    "def linecount(filename):\n",
    "    cntupper=0\n",
    "    cntlower=0\n",
    "    cntdigit=0\n",
    "    with open(filename) as f:\n",
    "        if f.mode=='r':\n",
    "            a=f.read()\n",
    "            li=list(a)\n",
    "        for i  in range(len(li)):\n",
    "            if(ord(li[i])>=65 and ord(li[i])<=90):\n",
    "                cntupper+=1\n",
    "            elif(ord(li[i])>=97 and ord(li[i])<=122):\n",
    "                cntlower+=1\n",
    "            elif(ord(li[i])>=48 and ord(li[i])<=57):\n",
    "                cntdigit+=1\n",
    "        output=f'Upper case : {cntupper} Lower case : {cntlower} Digits {cntdigit}'\n",
    "    return output\n",
    "linecount('data.txt')\n",
    "            "
   ]
  },
  {
   "cell_type": "code",
   "execution_count": null,
   "metadata": {},
   "outputs": [],
   "source": []
  }
 ],
 "metadata": {
  "kernelspec": {
   "display_name": "Python 3",
   "language": "python",
   "name": "python3"
  },
  "language_info": {
   "codemirror_mode": {
    "name": "ipython",
    "version": 3
   },
   "file_extension": ".py",
   "mimetype": "text/x-python",
   "name": "python",
   "nbconvert_exporter": "python",
   "pygments_lexer": "ipython3",
   "version": "3.7.3"
  }
 },
 "nbformat": 4,
 "nbformat_minor": 2
}
